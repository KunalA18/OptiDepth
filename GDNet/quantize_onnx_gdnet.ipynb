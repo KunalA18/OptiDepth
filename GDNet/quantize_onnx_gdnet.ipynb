{
 "cells": [
  {
   "cell_type": "code",
   "execution_count": 1,
   "metadata": {},
   "outputs": [],
   "source": [
    "import numpy as np\n",
    "import torch\n",
    "import onnx\n",
    "import onnxruntime\n",
    "from onnxruntime import quantization\n",
    "import os\n",
    "from onnxruntime.quantization import QuantFormat, QuantType, quantize_static, CalibrationDataReader\n",
    "from PIL import Image\n",
    "import time\n",
    "from matplotlib import pyplot as plt"
   ]
  },
  {
   "cell_type": "code",
   "execution_count": 5,
   "metadata": {},
   "outputs": [],
   "source": [
    "model_fp32_path = '/home/ayush/OptiDepth/model_gdnet.onnx'\n",
    "model_prep_path = '/home/ayush/OptiDepth/model_gdnet_prep.onnx'\n",
    "\n",
    "quantization.shape_inference.quant_pre_process(model_fp32_path, model_prep_path, skip_symbolic_shape=False)"
   ]
  },
  {
   "cell_type": "code",
   "execution_count": 3,
   "metadata": {},
   "outputs": [
    {
     "name": "stdout",
     "output_type": "stream",
     "text": [
      "1 384 384\n"
     ]
    },
    {
     "data": {
      "text/plain": [
       "'input.1'"
      ]
     },
     "execution_count": 3,
     "metadata": {},
     "output_type": "execute_result"
    }
   ],
   "source": [
    "session = onnxruntime.InferenceSession(model_prep_path, None)\n",
    "(batch, _, height, width) = session.get_inputs()[0].shape\n",
    "print(batch,height, width)\n",
    "session.get_inputs()[0].name"
   ]
  },
  {
   "cell_type": "code",
   "execution_count": 3,
   "metadata": {},
   "outputs": [],
   "source": [
    "def _preprocess_images(images_folder: str, height: int, width: int, size_limit=0):\n",
    "    \"\"\"\n",
    "    Loads a batch of images and preprocess them\n",
    "    parameter images_folder: path to folder storing images\n",
    "    parameter height: image height in pixels\n",
    "    parameter width: image width in pixels\n",
    "    parameter size_limit: number of images to load. Default is 0 which means all images are picked.\n",
    "    return: list of matrices characterizing multiple images\n",
    "    \"\"\"\n",
    "    image_names = os.listdir(images_folder)\n",
    "    if size_limit > 0 and len(image_names) >= size_limit:\n",
    "        batch_filenames = [image_names[i] for i in range(size_limit)]\n",
    "    else:\n",
    "        batch_filenames = image_names\n",
    "    unconcatenated_batch_data = []\n",
    "\n",
    "    for image_name in batch_filenames:\n",
    "        image_filepath = images_folder + \"/\" + image_name\n",
    "        pillow_img = Image.new(\"RGB\", (width, height))\n",
    "        pillow_img.paste(Image.open(image_filepath).resize((384, 384)))\n",
    "        input_data = np.float32(pillow_img)/255.0 #- np.array(\n",
    "        #    [123.68, 116.78, 103.94], dtype=np.float32\n",
    "        #)\n",
    "        nhwc_data = np.expand_dims(input_data, axis=0)\n",
    "        nchw_data = nhwc_data.transpose(0, 3, 1, 2)  # ONNX Runtime standard\n",
    "        unconcatenated_batch_data.append(nchw_data)\n",
    "    batch_data = np.concatenate(\n",
    "        np.expand_dims(unconcatenated_batch_data, axis=0), axis=0\n",
    "    )\n",
    "    return batch_data\n",
    "\n",
    "\n",
    "class ResNet50DataReader(CalibrationDataReader):\n",
    "    def __init__(self, calibration_image_folder: str, model_path: str):\n",
    "        self.enum_data = None\n",
    "\n",
    "        # Use inference session to get input shape.\n",
    "        session = onnxruntime.InferenceSession(model_path, None)\n",
    "        (_, _, height, width) = session.get_inputs()[0].shape\n",
    "\n",
    "        # Convert image to input data\n",
    "        self.nhwc_data_list = _preprocess_images(\n",
    "            calibration_image_folder, height, width, size_limit=5\n",
    "        )\n",
    "        self.input_name = session.get_inputs()[0].name\n",
    "        self.datasize = len(self.nhwc_data_list)\n",
    "\n",
    "    def get_next(self):\n",
    "        if self.enum_data is None:\n",
    "            self.enum_data = iter(\n",
    "                [{self.input_name: nhwc_data} for nhwc_data in self.nhwc_data_list]\n",
    "            )\n",
    "        return next(self.enum_data, None)\n",
    "\n",
    "    def rewind(self):\n",
    "        self.enum_data = None"
   ]
  },
  {
   "cell_type": "code",
   "execution_count": 6,
   "metadata": {},
   "outputs": [],
   "source": [
    "dr = ResNet50DataReader(\"/home/ayush/OptiDepth/GDNet/images\", model_prep_path)"
   ]
  },
  {
   "cell_type": "code",
   "execution_count": 7,
   "metadata": {},
   "outputs": [
    {
     "name": "stdout",
     "output_type": "stream",
     "text": [
      "Calibrated and quantized model saved.\n"
     ]
    }
   ],
   "source": [
    "output_model_path = 'model_gdnet_quant.onnx'\n",
    "quantize_static(model_prep_path, output_model_path, dr, quant_format=QuantFormat.QDQ, \n",
    "                per_channel=False,weight_type=QuantType.QInt8,)\n",
    "print(\"Calibrated and quantized model saved.\")"
   ]
  },
  {
   "cell_type": "code",
   "execution_count": 10,
   "metadata": {},
   "outputs": [],
   "source": [
    "def benchmark(model_path):\n",
    "    session = onnxruntime.InferenceSession(model_path)\n",
    "    input_name = session.get_inputs()[0].name\n",
    "\n",
    "    total = 0.0\n",
    "    runs = 10\n",
    "    input_data = np.zeros((1, 3, 416, 416), np.float32)\n",
    "    # Warming up\n",
    "    _ = session.run([], {input_name: input_data})\n",
    "    for i in range(runs):\n",
    "        start = time.perf_counter()\n",
    "        _ = session.run([], {input_name: input_data})\n",
    "        end = (time.perf_counter() - start) * 1000\n",
    "        total += end\n",
    "        print(f\"{end:.2f}ms\")\n",
    "    total /= runs\n",
    "    print(f\"Avg: {total:.2f}ms\")"
   ]
  },
  {
   "cell_type": "code",
   "execution_count": 11,
   "metadata": {},
   "outputs": [
    {
     "name": "stdout",
     "output_type": "stream",
     "text": [
      "benchmarking fp32 model...\n",
      "670.34ms\n",
      "692.82ms\n",
      "668.18ms\n",
      "668.92ms\n",
      "673.95ms\n",
      "675.50ms\n",
      "674.28ms\n",
      "680.64ms\n",
      "691.29ms\n",
      "682.83ms\n",
      "Avg: 677.87ms\n",
      "benchmarking int8 model...\n",
      "323.96ms\n",
      "330.22ms\n",
      "331.09ms\n",
      "332.15ms\n",
      "334.22ms\n",
      "333.24ms\n",
      "331.80ms\n",
      "333.58ms\n",
      "332.72ms\n",
      "334.33ms\n",
      "Avg: 331.73ms\n"
     ]
    }
   ],
   "source": [
    "print(\"benchmarking fp32 model...\")\n",
    "benchmark(model_fp32_path)\n",
    "\n",
    "print(\"benchmarking int8 model...\")\n",
    "benchmark(output_model_path)"
   ]
  },
  {
   "cell_type": "code",
   "execution_count": 13,
   "metadata": {},
   "outputs": [
    {
     "name": "stdout",
     "output_type": "stream",
     "text": [
      "model_mirrornet_quant.onnx\n",
      "[1, 3, 416, 416]\n",
      "(1, 1, 416, 416)\n",
      "[[ 0  0  0 ...  0  0  0]\n",
      " [ 0  0  0 ...  0  0  0]\n",
      " [ 0  0  0 ...  0  0  0]\n",
      " ...\n",
      " [ 4  3  3 ... 10 14 14]\n",
      " [ 4  4  4 ... 10 14 14]\n",
      " [ 6  4  4 ... 14 14 21]]\n"
     ]
    },
    {
     "data": {
      "image/png": "[encoded data removed]",
      "text/plain": [
       "<Figure size 432x288 with 1 Axes>"
      ]
     },
     "metadata": {
      "needs_background": "light"
     },
     "output_type": "display_data"
    }
   ],
   "source": [
    "import torchvision.transforms as transforms\n",
    "output_model_path = 'model_gdnet_quant.onnx'\n",
    "session = onnxruntime.InferenceSession(output_model_path)\n",
    "print(output_model_path)\n",
    "input_name = session.get_inputs()[0].name\n",
    "print(session.get_inputs()[0].shape)\n",
    "\n",
    "image_filepath = '/home/ayush/OptiDepth/GDNet/image/c1.jpeg'\n",
    "pillow_img = Image.new(\"RGB\", (416, 416))\n",
    "pillow_img.paste(Image.open(image_filepath).resize((416, 416)))\n",
    "input_data = np.float32(pillow_img)/255.0\n",
    "nhwc_data = np.expand_dims(input_data, axis=0)\n",
    "nchw_data = nhwc_data.transpose(0, 3, 1, 2)  # ONNX Runtime standard\n",
    "\n",
    "output_data = session.run([], {input_name: nchw_data})\n",
    "print(output_data[0].shape)\n",
    "img_out_y = output_data[0][0][0]\n",
    "pred_mask = (img_out_y*255).astype(np.uint8)\n",
    "print(pred_mask)\n",
    "plt.imshow(Image.fromarray(pred_mask), cmap='gray',)\n",
    "plt.show()"
   ]
  },
  {
   "cell_type": "code",
   "execution_count": null,
   "metadata": {},
   "outputs": [],
   "source": []
  }
 ],
 "metadata": {
  "kernelspec": {
   "display_name": "Python 3 (ipykernel)",
   "language": "python",
   "name": "python3"
  },
  "language_info": {
   "codemirror_mode": {
    "name": "ipython",
    "version": 3
   },
   "file_extension": ".py",
   "mimetype": "text/x-python",
   "name": "python",
   "nbconvert_exporter": "python",
   "pygments_lexer": "ipython3",
   "version": "3.8.10"
  }
 },
 "nbformat": 4,
 "nbformat_minor": 2
}
