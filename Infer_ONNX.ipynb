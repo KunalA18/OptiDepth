{
  "nbformat": 4,
  "nbformat_minor": 0,
  "metadata": {
    "colab": {
      "provenance": [],
      "gpuType": "T4"
    },
    "kernelspec": {
      "name": "python3",
      "display_name": "Python 3"
    },
    "language_info": {
      "name": "python"
    },
    "accelerator": "GPU"
  },
  "cells": [
    {
      "cell_type": "code",
      "execution_count": null,
      "metadata": {
        "id": "2Ku1kOU2m0_R",
        "colab": {
          "base_uri": "https://localhost:8080/"
        },
        "outputId": "9594ea03-7388-45af-ea38-e030c4a777d9"
      },
      "outputs": [
        {
          "output_type": "stream",
          "name": "stdout",
          "text": [
            "Collecting onnx\n",
            "  Downloading onnx-1.16.0-cp310-cp310-manylinux_2_17_x86_64.manylinux2014_x86_64.whl (15.9 MB)\n",
            "\u001b[2K     \u001b[90m━━━━━━━━━━━━━━━━━━━━━━━━━━━━━━━━━━━━━━━━\u001b[0m \u001b[32m15.9/15.9 MB\u001b[0m \u001b[31m31.1 MB/s\u001b[0m eta \u001b[36m0:00:00\u001b[0m\n",
            "\u001b[?25hRequirement already satisfied: numpy>=1.20 in /usr/local/lib/python3.10/dist-packages (from onnx) (1.25.2)\n",
            "Requirement already satisfied: protobuf>=3.20.2 in /usr/local/lib/python3.10/dist-packages (from onnx) (3.20.3)\n",
            "Installing collected packages: onnx\n",
            "Successfully installed onnx-1.16.0\n",
            "Collecting onnxscript\n",
            "  Downloading onnxscript-0.1.0.dev20240501-py3-none-any.whl (593 kB)\n",
            "\u001b[2K     \u001b[90m━━━━━━━━━━━━━━━━━━━━━━━━━━━━━━━━━━━━━━━━\u001b[0m \u001b[32m593.5/593.5 kB\u001b[0m \u001b[31m6.2 MB/s\u001b[0m eta \u001b[36m0:00:00\u001b[0m\n",
            "\u001b[?25hRequirement already satisfied: numpy in /usr/local/lib/python3.10/dist-packages (from onnxscript) (1.25.2)\n",
            "Requirement already satisfied: onnx>=1.16 in /usr/local/lib/python3.10/dist-packages (from onnxscript) (1.16.0)\n",
            "Requirement already satisfied: typing-extensions in /usr/local/lib/python3.10/dist-packages (from onnxscript) (4.11.0)\n",
            "Requirement already satisfied: protobuf>=3.20.2 in /usr/local/lib/python3.10/dist-packages (from onnx>=1.16->onnxscript) (3.20.3)\n",
            "Installing collected packages: onnxscript\n",
            "Successfully installed onnxscript-0.1.0.dev20240501\n",
            "Collecting onnxruntime\n",
            "  Downloading onnxruntime-1.17.3-cp310-cp310-manylinux_2_27_x86_64.manylinux_2_28_x86_64.whl (6.8 MB)\n",
            "\u001b[2K     \u001b[90m━━━━━━━━━━━━━━━━━━━━━━━━━━━━━━━━━━━━━━━━\u001b[0m \u001b[32m6.8/6.8 MB\u001b[0m \u001b[31m25.6 MB/s\u001b[0m eta \u001b[36m0:00:00\u001b[0m\n",
            "\u001b[?25hCollecting coloredlogs (from onnxruntime)\n",
            "  Downloading coloredlogs-15.0.1-py2.py3-none-any.whl (46 kB)\n",
            "\u001b[2K     \u001b[90m━━━━━━━━━━━━━━━━━━━━━━━━━━━━━━━━━━━━━━━━\u001b[0m \u001b[32m46.0/46.0 kB\u001b[0m \u001b[31m7.1 MB/s\u001b[0m eta \u001b[36m0:00:00\u001b[0m\n",
            "\u001b[?25hRequirement already satisfied: flatbuffers in /usr/local/lib/python3.10/dist-packages (from onnxruntime) (24.3.25)\n",
            "Requirement already satisfied: numpy>=1.21.6 in /usr/local/lib/python3.10/dist-packages (from onnxruntime) (1.25.2)\n",
            "Requirement already satisfied: packaging in /usr/local/lib/python3.10/dist-packages (from onnxruntime) (24.0)\n",
            "Requirement already satisfied: protobuf in /usr/local/lib/python3.10/dist-packages (from onnxruntime) (3.20.3)\n",
            "Requirement already satisfied: sympy in /usr/local/lib/python3.10/dist-packages (from onnxruntime) (1.12)\n",
            "Collecting humanfriendly>=9.1 (from coloredlogs->onnxruntime)\n",
            "  Downloading humanfriendly-10.0-py2.py3-none-any.whl (86 kB)\n",
            "\u001b[2K     \u001b[90m━━━━━━━━━━━━━━━━━━━━━━━━━━━━━━━━━━━━━━━━\u001b[0m \u001b[32m86.8/86.8 kB\u001b[0m \u001b[31m14.9 MB/s\u001b[0m eta \u001b[36m0:00:00\u001b[0m\n",
            "\u001b[?25hRequirement already satisfied: mpmath>=0.19 in /usr/local/lib/python3.10/dist-packages (from sympy->onnxruntime) (1.3.0)\n",
            "Installing collected packages: humanfriendly, coloredlogs, onnxruntime\n",
            "Successfully installed coloredlogs-15.0.1 humanfriendly-10.0 onnxruntime-1.17.3\n"
          ]
        }
      ],
      "source": [
        "!pip install onnx\n",
        "!pip install onnxscript\n",
        "!pip install onnxruntime"
      ]
    },
    {
      "cell_type": "code",
      "source": [
        "from google.colab import drive\n",
        "drive.mount('/content/drive')"
      ],
      "metadata": {
        "id": "uIIrIGdMnIgk",
        "colab": {
          "base_uri": "https://localhost:8080/"
        },
        "outputId": "22887c70-29ae-4321-d8b2-9e29013d8231"
      },
      "execution_count": null,
      "outputs": [
        {
          "output_type": "stream",
          "name": "stdout",
          "text": [
            "Mounted at /content/drive\n"
          ]
        }
      ]
    },
    {
      "cell_type": "code",
      "source": [
        "!git clone https://github.com/Mhaiyang/CVPR2020_GDNet.git"
      ],
      "metadata": {
        "colab": {
          "base_uri": "https://localhost:8080/"
        },
        "id": "TzlSmw0d-tLp",
        "outputId": "835b84fe-e3d6-4f7b-d2bd-1e2f5181bbcf"
      },
      "execution_count": null,
      "outputs": [
        {
          "output_type": "stream",
          "name": "stdout",
          "text": [
            "Cloning into 'CVPR2020_GDNet'...\n",
            "remote: Enumerating objects: 70, done.\u001b[K\n",
            "remote: Counting objects: 100% (40/40), done.\u001b[K\n",
            "remote: Compressing objects: 100% (22/22), done.\u001b[K\n",
            "remote: Total 70 (delta 18), reused 19 (delta 18), pack-reused 30\u001b[K\n",
            "Receiving objects: 100% (70/70), 19.04 KiB | 3.17 MiB/s, done.\n",
            "Resolving deltas: 100% (30/30), done.\n"
          ]
        }
      ]
    },
    {
      "cell_type": "code",
      "source": [
        "cd CVPR2020_GDNet/"
      ],
      "metadata": {
        "colab": {
          "base_uri": "https://localhost:8080/"
        },
        "id": "ks7MoGKM_BYn",
        "outputId": "91948e55-37c6-434f-c143-29b880736671"
      },
      "execution_count": null,
      "outputs": [
        {
          "output_type": "stream",
          "name": "stdout",
          "text": [
            "/content/CVPR2020_GDNet\n"
          ]
        }
      ]
    },
    {
      "cell_type": "code",
      "source": [
        "pwd"
      ],
      "metadata": {
        "colab": {
          "base_uri": "https://localhost:8080/",
          "height": 35
        },
        "id": "mb7o1rVm_dr5",
        "outputId": "8cfefe7d-4043-403c-860a-c59f78056d3c"
      },
      "execution_count": null,
      "outputs": [
        {
          "output_type": "execute_result",
          "data": {
            "text/plain": [
              "'/content/CVPR2020_GDNet'"
            ],
            "application/vnd.google.colaboratory.intrinsic+json": {
              "type": "string"
            }
          },
          "metadata": {},
          "execution_count": 5
        }
      ]
    },
    {
      "cell_type": "code",
      "source": [
        "!pip install xlwt"
      ],
      "metadata": {
        "colab": {
          "base_uri": "https://localhost:8080/"
        },
        "id": "eSbClnaS_r6C",
        "outputId": "991a3174-e74c-4beb-e428-4cf40130d802"
      },
      "execution_count": null,
      "outputs": [
        {
          "output_type": "stream",
          "name": "stdout",
          "text": [
            "Collecting xlwt\n",
            "  Downloading xlwt-1.3.0-py2.py3-none-any.whl (99 kB)\n",
            "\u001b[?25l     \u001b[90m━━━━━━━━━━━━━━━━━━━━━━━━━━━━━━━━━━━━━━━━\u001b[0m \u001b[32m0.0/100.0 kB\u001b[0m \u001b[31m?\u001b[0m eta \u001b[36m-:--:--\u001b[0m\r\u001b[2K     \u001b[90m━━━━━━━━━━━━━━━━━━━━━━━━━━━━━━━━━━━━━━━━\u001b[0m \u001b[32m100.0/100.0 kB\u001b[0m \u001b[31m3.8 MB/s\u001b[0m eta \u001b[36m0:00:00\u001b[0m\n",
            "\u001b[?25hInstalling collected packages: xlwt\n",
            "Successfully installed xlwt-1.3.0\n"
          ]
        }
      ]
    },
    {
      "cell_type": "code",
      "source": [
        "!pip install cython\n",
        "!pip install git+https://github.com/lucasb-eyer/pydensecrf.git"
      ],
      "metadata": {
        "id": "LVvE9DU3_36U",
        "outputId": "8aa37365-a8a2-4e41-f6a9-7a6e6d52cc98",
        "colab": {
          "base_uri": "https://localhost:8080/"
        }
      },
      "execution_count": null,
      "outputs": [
        {
          "output_type": "stream",
          "name": "stdout",
          "text": [
            "Requirement already satisfied: cython in /usr/local/lib/python3.10/dist-packages (3.0.10)\n",
            "Collecting git+https://github.com/lucasb-eyer/pydensecrf.git\n",
            "  Cloning https://github.com/lucasb-eyer/pydensecrf.git to /tmp/pip-req-build-8bi_pcmi\n",
            "  Running command git clone --filter=blob:none --quiet https://github.com/lucasb-eyer/pydensecrf.git /tmp/pip-req-build-8bi_pcmi\n",
            "  Resolved https://github.com/lucasb-eyer/pydensecrf.git to commit 2723c7fa4f2ead16ae1ce3d8afe977724bb8f87f\n",
            "  Installing build dependencies ... \u001b[?25l\u001b[?25hdone\n",
            "  Getting requirements to build wheel ... \u001b[?25l\u001b[?25hdone\n",
            "  Preparing metadata (pyproject.toml) ... \u001b[?25l\u001b[?25hdone\n",
            "Building wheels for collected packages: pydensecrf\n",
            "  Building wheel for pydensecrf (pyproject.toml) ... \u001b[?25l\u001b[?25hdone\n",
            "  Created wheel for pydensecrf: filename=pydensecrf-1.0-cp310-cp310-linux_x86_64.whl size=3405185 sha256=7b10c2b383886b5095f1bac884b8b227af160419d71070509ae9dc8bf1ed01fb\n",
            "  Stored in directory: /tmp/pip-ephem-wheel-cache-lg69wva7/wheels/01/5b/61/87443ed3bf03dd2940375cf2f8b6fba88efece935465e490b0\n",
            "Successfully built pydensecrf\n",
            "Installing collected packages: pydensecrf\n",
            "Successfully installed pydensecrf-1.0\n"
          ]
        }
      ]
    },
    {
      "cell_type": "code",
      "source": [
        "import cv2\n",
        "import numpy as np\n",
        "import time\n",
        "import onnxruntime\n",
        "import torchvision.transforms as transforms\n",
        "from PIL import Image\n",
        "from misc import check_mkdir, crf_refine\n",
        "import matplotlib.pyplot as plt\n",
        "from torch.autograd import Variable\n",
        "\n",
        "to_pil = transforms.ToPILImage()\n",
        "\n",
        "def to_numpy(tensor):\n",
        "    if tensor.requires_grad:\n",
        "        print(\"hello\")\n",
        "    return tensor.detach().cpu().numpy() if tensor.requires_grad else tensor.cpu().numpy()\n",
        "\n",
        "img_transform = transforms.Compose([\n",
        "    transforms.Resize((416, 416)),\n",
        "    transforms.ToTensor(),\n",
        "    transforms.Normalize([0.485, 0.456, 0.406], [0.229, 0.224, 0.225])\n",
        "])\n",
        "\n",
        "# Start Session\n",
        "ort_session = onnxruntime.InferenceSession(\"/content/drive/MyDrive/GDNet_Quantization/ONNX_Files/model_gdnet.onnx\")\n",
        "# Model Info\n",
        "input_name = ort_session.get_outputs()[0].shape\n",
        "print('Input Name:', input_name)\n",
        "\n",
        "img = Image.open(\"/content/drive/MyDrive/GDNet_Quantization/GDNet_Images/Image4.jpeg\")\n",
        "resize = transforms.Resize([416, 416])\n",
        "w, h = img.size\n",
        "# img_ = resize(img)\n",
        "# to_tensor = transforms.ToTensor()\n",
        "img_y = Variable(img_transform(img).unsqueeze(0), requires_grad=False).to(\"cuda\")\n",
        "print(to_numpy(img_y))\n",
        "ort_inputs = {ort_session.get_inputs()[0].name: to_numpy(img_y)}\n",
        "ort_outs = ort_session.run(None, ort_inputs)\n",
        "img_out_y = ort_outs[2].squeeze(0)\n",
        "print(img_out_y)\n",
        "f4 = np.array(transforms.Resize((h, w))(to_pil(img_out_y[0])))\n",
        "pred_mask = (f4*255).astype(np.uint8)\n",
        "plt.imshow(pred_mask)\n",
        "f3 = crf_refine(np.array(img), pred_mask)\n",
        "# grayImage = cv2.cvtColor(img_out_y[0])\n",
        "#plt.imshow(Image.fromarray(f3))\n",
        "#plt.show()\n",
        "#plt.imshow(Image.fromarray(pred_mask), cmap='gray',)\n",
        "plt.show()"
      ],
      "metadata": {
        "id": "R34BT871nR4c",
        "colab": {
          "base_uri": "https://localhost:8080/",
          "height": 1000
        },
        "outputId": "e6deeb79-505e-4392-cabe-60cce4267eef"
      },
      "execution_count": null,
      "outputs": [
        {
          "output_type": "stream",
          "name": "stdout",
          "text": [
            "Input Name: [1, 1, 416, 416]\n",
            "[[[[ 0.96455175  0.96455175  0.96455175 ...  0.46793392  0.39943492\n",
            "     0.45080918]\n",
            "   [ 0.9816765   0.9816765   0.9816765  ...  0.43368444  0.43368444\n",
            "     0.24531215]\n",
            "   [ 0.9988013   0.9816765   0.9816765  ...  0.41655967  0.07406463\n",
            "    -0.6109256 ]\n",
            "   ...\n",
            "   [-1.4329139  -1.4329139  -1.4500387  ... -0.5081771  -0.5253019\n",
            "    -0.55955136]\n",
            "   [-1.4671633  -1.4842881  -1.4842881  ... -0.43967807 -0.38830382\n",
            "    -0.43967807]\n",
            "   [-1.5356624  -1.5527872  -1.5185376  ... -0.5081771  -0.6451751\n",
            "    -0.7307989 ]]\n",
            "\n",
            "  [[ 1.2556022   1.2556022   1.2556022  ...  0.5903362   0.5378152\n",
            "     0.57282925]\n",
            "   [ 1.2380953   1.2380953   1.2380953  ...  0.55532223  0.57282925\n",
            "     0.3802522 ]\n",
            "   [ 1.2205883   1.2205883   1.2205883  ...  0.5378152   0.2226892\n",
            "    -0.460084  ]\n",
            "   ...\n",
            "   [-0.9502801  -0.9502801  -0.9677871  ...  0.3102242   0.29271722\n",
            "     0.2577032 ]\n",
            "   [-0.9852941  -1.0028011  -1.0028011  ...  0.3802522   0.4327732\n",
            "     0.3802522 ]\n",
            "   [-1.055322   -1.0728291  -1.0378151  ...  0.3102242   0.17016806\n",
            "     0.08263306]]\n",
            "\n",
            "  [[ 1.0713727   1.0713727   1.0713727  ...  0.37420484  0.33934647\n",
            "     0.42649257]\n",
            "   [ 1.0539435   1.0539435   1.0539435  ...  0.37420484  0.39163405\n",
            "     0.23477131]\n",
            "   [ 1.0365143   1.0365143   1.0365143  ...  0.39163405  0.07790857\n",
            "    -0.5844008 ]\n",
            "   ...\n",
            "   [-0.776122   -0.776122   -0.79355115 ...  0.40906325  0.37420484\n",
            "     0.33934647]\n",
            "   [-0.8109804  -0.82840955 -0.82840955 ...  0.46135095  0.51363856\n",
            "     0.46135095]\n",
            "   [-0.88069713 -0.8981263  -0.86326796 ...  0.39163405  0.2522005\n",
            "     0.16505454]]]]\n",
            "[[[1.4710724e-03 7.8195333e-04 4.1553378e-04 ... 5.7902932e-04\n",
            "   1.0517538e-03 1.9096732e-03]\n",
            "  [7.2687864e-04 3.6242604e-04 1.8066168e-04 ... 2.2813678e-04\n",
            "   4.3803453e-04 8.4128976e-04]\n",
            "  [3.5902858e-04 1.6796589e-04 7.8558922e-05 ... 8.9794397e-05\n",
            "   1.8242002e-04 3.7035346e-04]\n",
            "  ...\n",
            "  [1.6272068e-04 6.5267086e-05 2.6226044e-05 ... 4.4703484e-05\n",
            "   9.6529722e-05 2.0852685e-04]\n",
            "  [3.6689639e-04 1.5845895e-04 6.8396330e-05 ... 9.7692013e-05\n",
            "   2.0089746e-04 4.1317940e-04]\n",
            "  [8.2677603e-04 3.8465858e-04 1.7890334e-04 ... 2.1350384e-04\n",
            "   4.1794777e-04 8.1822276e-04]]]\n"
          ]
        },
        {
          "output_type": "display_data",
          "data": {
            "text/plain": [
              "<Figure size 640x480 with 1 Axes>"
            ],
            "image/png": "[encoded data removed]"
          },
          "metadata": {}
        }
      ]
    }
  ]
}